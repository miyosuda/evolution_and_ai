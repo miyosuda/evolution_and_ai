{
 "cells": [
  {
   "cell_type": "code",
   "execution_count": 1,
   "metadata": {},
   "outputs": [],
   "source": [
    "import numpy as np\n",
    "import matplotlib.pyplot as plt\n",
    "%matplotlib inline"
   ]
  },
  {
   "cell_type": "code",
   "execution_count": 6,
   "metadata": {},
   "outputs": [],
   "source": [
    "p = {}\n",
    "\n",
    "p[\"n_syn\"]     = 100\n",
    "p[\"g_factor\"]  = 100\n",
    "p[\"cycle_dur\"] = 100 # sec\n",
    "\n",
    "p[\"g_S\"]       = 0.0\n",
    "p[\"alpha\"]     = -55.0\n",
    "p[\"beta\"]      = 0.25\n",
    "p[\"r_max\"]     = 0.35"
   ]
  },
  {
   "cell_type": "code",
   "execution_count": 7,
   "metadata": {},
   "outputs": [],
   "source": [
    "def get_default(params):\n",
    "    import json\n",
    "    return json.load(open('./default/default_{0}.json'.format(params), 'r'))"
   ]
  },
  {
   "cell_type": "code",
   "execution_count": 8,
   "metadata": {},
   "outputs": [],
   "source": [
    "n_syn = p[\"n_syn\"]\n",
    "\n",
    "# eta, epsは上がいているのでtau_deltaのみデフォルトを使用\n",
    "learn = get_default(\"learn\")\n",
    "learn[\"eps\"] = 1e-1 / n_syn\n",
    "learn[\"eta\"] = 1e-3 / n_syn\n",
    "\n",
    "# alpha, beta, r_max, g_Sを上書き\n",
    "neuron = get_default(\"neuron\")\n",
    "neuron[\"phi\"][\"alpha\"] = p[\"alpha\"]\n",
    "neuron[\"phi\"][\"beta\"]  = p[\"beta\"]\n",
    "neuron[\"phi\"][\"r_max\"] = p[\"r_max\"]\n",
    "neuron[\"g_S\"]          = p[\"g_S\"]"
   ]
  },
  {
   "cell_type": "code",
   "execution_count": 15,
   "metadata": {},
   "outputs": [],
   "source": [
    "epochs    = 4 # 学習epoch数\n",
    "l_c       = 6 # 1epoch中の学習するsinの回数\n",
    "eval_c    = 2 # 1epoch中の評価時のsinの回数\n",
    "cycles    = epochs * l_c + (epochs + 1) * eval_c # 34 (一番最初に評価期間を持ってきている)\n",
    "cycle_dur = p[\"cycle_dur\"] # 100 (1個のサイン波を何msecで表現するか)\n",
    "t_end     = cycles * cycle_dur # 3400 # トータルの学習時間ms"
   ]
  },
  {
   "cell_type": "code",
   "execution_count": 59,
   "metadata": {},
   "outputs": [],
   "source": [
    "def exc_soma_cond(t):\n",
    "    if t % (cycle_dur * (l_c + eval_c)) < cycle_dur * eval_c:\n",
    "        # 評価期間は値を0        \n",
    "        return 0.0\n",
    "    else:\n",
    "        # 1.0を中心に振動するサイン波\n",
    "        return ((1 + np.sin(np.pi / 2 + t / t_end * cycles * 2 * np.pi)) \\\n",
    "                * 2e-3 * 1 + 8e-3) * p[\"g_factor\"]\n",
    "\n",
    "def inh_soma_cond(t):\n",
    "    if t % (cycle_dur * (l_c + eval_c)) < cycle_dur * eval_c:\n",
    "        # 評価期間は値を0に\n",
    "        return 0.0\n",
    "    else:\n",
    "        return 8e-2 * p[\"g_factor\"]\n",
    "\n",
    "dt  = 0.05\n",
    "f_r = 0.01  # 10Hz\n",
    "t_pts = np.arange(0, t_end / cycles, dt) # 0.0~100.0 を 0.05間隔で\n",
    "\n",
    "# 0~1の乱数を2000個発生させて、0.0005 未満だった時刻(0.0~100.0)を記録\n",
    "# 例えば、[50.5 , 74.65] など\n",
    "# そこからcycle_dur=100の時刻毎に[50.5, 150.5, 250.5 ...]と、[74.65, 174.65, 274.65 ...]をまぜてソートしたものが\n",
    "# 各ニューロンの発火時刻になる\n",
    "\n",
    "poisson_spikes = [t_pts[np.random.rand(t_pts.shape[0]) < f_r * dt] for _ in range(n_syn)]\n",
    "poisson_spikes = [[] if spikes.shape[0] == 0 else np.concatenate(\n",
    "    [np.arange(spike, t_end, cycle_dur) for spike in spikes]) for spikes in poisson_spikes]\n",
    "# [100]\n",
    "# 100個あるニューロンの発火時刻列"
   ]
  },
  {
   "cell_type": "code",
   "execution_count": 87,
   "metadata": {},
   "outputs": [
    {
     "data": {
      "text/plain": [
       "array([  50.5 ,  150.5 ,  250.5 ,  350.5 ,  450.5 ,  550.5 ,  650.5 ,\n",
       "        750.5 ,  850.5 ,  950.5 , 1050.5 , 1150.5 , 1250.5 , 1350.5 ,\n",
       "       1450.5 , 1550.5 , 1650.5 , 1750.5 , 1850.5 , 1950.5 , 2050.5 ,\n",
       "       2150.5 , 2250.5 , 2350.5 , 2450.5 , 2550.5 , 2650.5 , 2750.5 ,\n",
       "       2850.5 , 2950.5 , 3050.5 , 3150.5 , 3250.5 , 3350.5 ,   74.65,\n",
       "        174.65,  274.65,  374.65,  474.65,  574.65,  674.65,  774.65,\n",
       "        874.65,  974.65, 1074.65, 1174.65, 1274.65, 1374.65, 1474.65,\n",
       "       1574.65, 1674.65, 1774.65, 1874.65, 1974.65, 2074.65, 2174.65,\n",
       "       2274.65, 2374.65, 2474.65, 2574.65, 2674.65, 2774.65, 2874.65,\n",
       "       2974.65, 3074.65, 3174.65, 3274.65, 3374.65])"
      ]
     },
     "execution_count": 87,
     "metadata": {},
     "output_type": "execute_result"
    }
   ],
   "source": [
    "spikes = [50.5 , 74.65]\n",
    "out = np.concatenate([np.arange(spike, t_end, cycle_dur) for spike in spikes])\n",
    "out"
   ]
  },
  {
   "cell_type": "code",
   "execution_count": 88,
   "metadata": {},
   "outputs": [],
   "source": [
    "def exc_soma_cond(t):\n",
    "    cycle_dur = 100\n",
    "    l_c       = 6\n",
    "    eval_c    = 2\n",
    "    g_factor  = 100\n",
    "    t_end     = 3400\n",
    "    \n",
    "    if t % (cycle_dur * (l_c + eval_c)) < cycle_dur * eval_c:\n",
    "        return 0.0\n",
    "    else:\n",
    "        return ((1 + np.sin(np.pi / 2 + t / t_end * cycles * 2 * np.pi)) \\\n",
    "                * 2e-3 * 1 + 8e-3) * g_factor\n",
    "\n",
    "def inh_soma_cond(t):\n",
    "    cycle_dur = 100\n",
    "    l_c       = 6\n",
    "    eval_c    = 2\n",
    "    g_factor  = 100\n",
    "    w\n",
    "    if t % (cycle_dur * (l_c + eval_c)) < cycle_dur * eval_c:\n",
    "        return 0.0\n",
    "    else:\n",
    "        return 8e-2 * g_factor"
   ]
  },
  {
   "cell_type": "code",
   "execution_count": 102,
   "metadata": {},
   "outputs": [
    {
     "data": {
      "image/png": "[encoded data removed]",
      "text/plain": [
       "<Figure size 432x288 with 1 Axes>"
      ]
     },
     "metadata": {},
     "output_type": "display_data"
    }
   ],
   "source": [
    "ts = np.arange(0, t_end, dt)\n",
    "exc_s = [exc_soma_cond(t) for t in ts]\n",
    "inh_s = [inh_soma_cond(t) for t in ts]\n",
    "\n",
    "plt.plot(inh_s, label=\"inh\")\n",
    "plt.plot(exc_s, label=\"exc\")\n",
    "plt.legend()\n",
    "plt.show()"
   ]
  },
  {
   "cell_type": "code",
   "execution_count": null,
   "metadata": {},
   "outputs": [],
   "source": []
  }
 ],
 "metadata": {
  "kernelspec": {
   "display_name": "Python 3",
   "language": "python",
   "name": "python3"
  },
  "language_info": {
   "codemirror_mode": {
    "name": "ipython",
    "version": 3
   },
   "file_extension": ".py",
   "mimetype": "text/x-python",
   "name": "python",
   "nbconvert_exporter": "python",
   "pygments_lexer": "ipython3",
   "version": "3.6.5"
  }
 },
 "nbformat": 4,
 "nbformat_minor": 2
}
